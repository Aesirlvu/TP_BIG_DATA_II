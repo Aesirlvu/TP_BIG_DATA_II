{
 "cells": [
  {
   "cell_type": "markdown",
   "id": "f07755a8",
   "metadata": {},
   "source": [
    "# 📊 Análisis de Casos COVID ‑ Formosa: Flujo ETL y Exploración de Datos\n",
    "\n",
    "> ⚙️ *Este notebook concentra el ciclo completo de procesamiento masivo de datos COVID‑19 en Argentina, con foco en la provincia de Formosa.*  \n",
    "> 💾 **Volumen inicial:** 6 GB, 30 millones de registros  \n",
    "> 🗓️ **Período:** 01/03/2020 – 04/06/2022\n",
    "\n",
    "---\n",
    "\n",
    "## 📋 Resumen General del Dataset\n",
    "\n",
    "- 🔢 **Total de registros:** `797.429`\n",
    "- 📄 **Total de columnas:** `25`  \n",
    "- 📌 **Alcance:** Dataset filtrado exclusivamente para la provincia de Formosa\n",
    "- 🧠 **Objetivo:** Comprender la evolución temporal, distribución geográfica y características demográficas de los casos COVID en Formosa\n",
    "\n",
    "---\n",
    "\n",
    "## 🧭 1. ¿Por qué este análisis?\n",
    "\n",
    "Este trabajo consiste en seleccionar un dataset de preferencia, en este caso vamos a trabajar con el dataset que cuenta con la información de \"Casos de Covid19 durante la pandemia\"\n",
    "\n",
    "limitando el alcance del dataset y trabajando unicamente con los datos que pertenezcan a la provincia de Formosa.\n",
    "\n",
    "\n",
    "---\n",
    "\n",
    "## 🎯 2. Objetivos\n",
    "\n",
    "### 🔄 Flujo ETL Completo\n",
    "\n",
    "1. **📥 Extracción**: Leer los datos por bloques y seleccionar solo Formosa.  \n",
    "2. **🧹 Transformación**: Estandarizar, limpiar y validar.  \n",
    "3. **💾 Carga**: Exportar los datos listos para análisis.\n",
    "\n",
    "### 🔬 Exploración y Visualización\n",
    "\n",
    "4. **📊 Estadísticas**: \n",
    "   - Casos totales por departamento y localidad\n",
    "   - Fallecimientos por grupo etario y género\n",
    "   - Clasificaciones de casos (confirmados, sospechosos)\n",
    "   - Pacientes en cuidados intensivos\n",
    "   - Tiempo entre diagnóstico y primeros síntomas\n",
    "   - Casos por semana epidemiológica\n",
    "   - Índice de mortalidad en personas jóvenes (<30 años)\n",
    "   - Uso de asistencia respiratoria mecánica por edad\n",
    "\n",
    "5. **📈 Gráficos**: \n",
    "   - Series de tiempo para evolución de casos\n",
    "   - Distribución geográfica de severidad\n",
    "   - Análisis demográfico por género y edad\n",
    "   - Comparativas entre clasificaciones y resultados\n",
    "\n",
    "---\n",
    "\n",
    "## 🛠️ 3. Metodología ETL Unificada\n",
    "\n",
    "### 📤 3.1 Ingestión por Fragmentos\n",
    "\n",
    "- ✅ Selección de columnas clave: `provincia`, `fecha_inicio_sintomas`, `clasificacion`, `fallecido`.  \n",
    "- ✅ Filtro temprano: conservar solo **Formosa**.\n",
    "\n",
    "### 🧼 3.2 Limpieza de Datos\n",
    "\n",
    "- 🗃️ Normalización de fechas y categorías.  \n",
    "\n",
    "## 📊 4. Análisis Exploratorio\n",
    "\n",
    "### 📌 4.1 Estadísticas Básicas\n",
    "\n",
    "- 🔢 Total de casos registrados por departamento.  \n",
    "- ⚰️ Cantidad de fallecimientos por grupo etario y género.  \n",
    "- 🧾 Clasificación por tipo de caso (confirmado, sospechoso, etc.).\n",
    "- 🏥 Casos que requirieron atención en UCI.\n",
    "\n",
    "### 📅 4.2 Tendencias Temporales\n",
    "\n",
    "- 📆 Evolución diaria y acumulada.  \n",
    "- 🚨 Detección de picos y brotes.\n",
    "- 📊 Cantidad de infectados por semana epidemiológica.\n",
    "\n",
    "### 🧮 4.3 Métricas Derivadas\n",
    "\n",
    "- ⏱️ Intervalo entre diagnóstico y aparición de síntomas.\n",
    "- 👶 Índice de mortalidad en personas menores de 30 años.\n",
    "- 👥 Análisis de mortalidad por género.\n",
    "- 🫁 Pacientes que necesitaron asistencia respiratoria mecánica por edad.\n",
    "\n",
    "---\n",
    "\n",
    "## 📈 5. Visualización de Resultados\n",
    "\n",
    "- 📍 **Línea temporal**: Casos diarios acumulados.  \n",
    "- 🧱 **Histograma**: Intervalos clave entre eventos clínicos.  \n",
    "- 🧮 **Gráfico de barras**: Asociación entre tipo de caso y desenlace.\n",
    "- 🗺️ **Mapas geográficos**: Distribución de casos y severidad usando geopandas o folium."
   ]
  },
  {
   "cell_type": "code",
   "execution_count": null,
   "id": "bb8e93be",
   "metadata": {},
   "outputs": [],
   "source": [
    "import pandas as pd\n",
    "import matplotlib.pyplot as plt"
   ]
  },
  {
   "cell_type": "code",
   "execution_count": null,
   "id": "6b37e0a2",
   "metadata": {},
   "outputs": [],
   "source": [
    "# utilizamos parse_dates con la lista de fechas para que pandas las convierta a datetime\n",
    "# y no tengamos que hacerlo manualmente después\n",
    "\n",
    "df = pd.read_csv('./data/Covid19Casos.csv')\n"
   ]
  },
  {
   "cell_type": "code",
   "execution_count": null,
   "id": "a073cbac",
   "metadata": {},
   "outputs": [],
   "source": [
    "df.dtypes"
   ]
  },
  {
   "cell_type": "code",
   "execution_count": null,
   "id": "a36f2323",
   "metadata": {},
   "outputs": [],
   "source": [
    "# ya que vamos a trabajar unicamente con la provincia de Formosa\n",
    "# vamos a delimitar dicho alcance\n",
    "formosa_df = df[df['residencia_provincia_nombre'] == 'Formosa']\n",
    "formosa_df = formosa_df.reset_index(drop=True)\n",
    "\n",
    "df = formosa_df.copy()\n"
   ]
  },
  {
   "cell_type": "code",
   "execution_count": null,
   "id": "74de192d",
   "metadata": {},
   "outputs": [],
   "source": [
    "df.head()"
   ]
  },
  {
   "cell_type": "code",
   "execution_count": null,
   "id": "2b9a4610",
   "metadata": {},
   "outputs": [],
   "source": [
    "# Visualizamos la cantidad de registros y columnas del df\n",
    "\n",
    "print(f'Cantidad de registros: {df.shape[0]}', end=' / ')\n",
    "print(f'Cantidad de columnas: {df.shape[1]}')\n",
    "\n",
    "# y los tipos de datos de cada columna\n",
    "\n",
    "print('\\nTipos de datos:')\n",
    "print(df.dtypes)"
   ]
  },
  {
   "cell_type": "code",
   "execution_count": null,
   "id": "6bcc7986",
   "metadata": {},
   "outputs": [],
   "source": [
    "# hay muchas columnas que no nos interesan para este análisis,\n",
    "# como por ej: el pais, y el nombre  de la provincia, \n",
    "# ya que hemos delimitado previamente el alcance\n",
    "# tambien: origen_financiamiento, carga_provincia_id, ultima_actualizacion, residencia_departamento_id, y residencia_provincia_id\n",
    "\n",
    "drop_cols = []\n",
    "\n",
    "\n",
    "drop_cols.append('id_evento_caso')\n",
    "drop_cols.append('residencia_pais_nombre')\n",
    "drop_cols.append('residencia_provincia_nombre')\n",
    "drop_cols.append('carga_provincia_nombre')\n",
    "drop_cols.append('origen_financiamiento')\n",
    "drop_cols.append('clasificacion')\n",
    "drop_cols.append('carga_provincia_id')\n",
    "drop_cols.append('ultima_actualizacion')\n",
    "drop_cols.append('residencia_departamento_id')\n",
    "drop_cols.append('residencia_provincia_id')\n",
    "\n",
    "print(drop_cols)"
   ]
  },
  {
   "cell_type": "code",
   "execution_count": null,
   "id": "6d4b1444",
   "metadata": {},
   "outputs": [],
   "source": [
    "df.drop(columns=drop_cols, inplace=True)\n",
    "\n",
    "print(f'Columnas restantes: {df.columns}')"
   ]
  },
  {
   "cell_type": "code",
   "execution_count": null,
   "id": "d4807181",
   "metadata": {},
   "outputs": [],
   "source": [
    "# Hemos eliminado las columnas que no nos interesan\n",
    "# y ahora vamos a ver los tipos de datos nuevamente\n",
    "# ya que todavia necesitamos convertir las fechas a datetime\n",
    "df.dtypes"
   ]
  },
  {
   "cell_type": "code",
   "execution_count": null,
   "id": "00677a13",
   "metadata": {},
   "outputs": [],
   "source": [
    "print(f'Cantidad de registros: {df.shape[0]}', end=' / ')\n",
    "print(f'Cantidad de columnas: {df.shape[1]}')"
   ]
  },
  {
   "cell_type": "code",
   "execution_count": null,
   "id": "aec64e44",
   "metadata": {},
   "outputs": [],
   "source": [
    "renombres = {\n",
    "    'residencia_departamento_nombre': 'departamento_residencia',\n",
    "    'fecha_inicio_sintomas': 'fecha_inicio_sintomas',\n",
    "    'sepi_apertura': 'sem_epidemiologica',\n",
    "    'cuidado_intensivo': 'requirio_uci', \n",
    "    'fecha_cui_intensivo': 'fecha_ingreso_uci',\n",
    "    'fallecido': 'indicador_fallecimiento',\n",
    "    'fecha_fallecimiento': 'fecha_fallecimiento',\n",
    "    'asistencia_respiratoria_mecanica': 'requirio_arm',\n",
    "    'clasificacion_resumen': 'clasificacion_caso',\n",
    "}\n",
    "\n",
    "df.rename(columns=renombres, inplace=True)\n"
   ]
  },
  {
   "cell_type": "code",
   "execution_count": null,
   "id": "80db3429",
   "metadata": {},
   "outputs": [],
   "source": [
    "df.columns"
   ]
  },
  {
   "cell_type": "code",
   "execution_count": null,
   "id": "dbd59248",
   "metadata": {},
   "outputs": [],
   "source": [
    "df['fecha_inicio_sintomas'] = pd.to_datetime(df['fecha_inicio_sintomas'], errors='coerce')\n",
    "df['fecha_apertura'] = pd.to_datetime(df['fecha_apertura'], errors='coerce')\n",
    "df['fecha_internacion'] = pd.to_datetime(df['fecha_internacion'], errors='coerce')\n",
    "df['fecha_ingreso_uci'] = pd.to_datetime(df['fecha_ingreso_uci'], errors='coerce')\n",
    "df['fecha_fallecimiento'] = pd.to_datetime(df['fecha_fallecimiento'], errors='coerce')\n",
    "df['fecha_diagnostico'] = pd.to_datetime(df['fecha_diagnostico'], errors='coerce')\n"
   ]
  },
  {
   "cell_type": "code",
   "execution_count": null,
   "id": "297680c2",
   "metadata": {},
   "outputs": [],
   "source": [
    "# pudimos convertir las fechas a un tipo datetime\n",
    "# y esto nos va a permitir trabajar mejor con los datos\n",
    "# y hacer graficos de series de tiempo, por ejemplo\n",
    "df.dtypes"
   ]
  },
  {
   "cell_type": "code",
   "execution_count": null,
   "id": "1b6598dc",
   "metadata": {},
   "outputs": [],
   "source": [
    "\n",
    "df['edad_años_meses'].value_counts()"
   ]
  },
  {
   "cell_type": "code",
   "execution_count": null,
   "id": "e5cebddc",
   "metadata": {},
   "outputs": [],
   "source": [
    "print(f\"edad máxima: {df['edad'].max()}\")\n",
    "print(f\"edad minima: {df['edad'].min()}\")"
   ]
  },
  {
   "cell_type": "code",
   "execution_count": null,
   "id": "154af433",
   "metadata": {},
   "outputs": [],
   "source": [
    "df[df['edad_años_meses'] == 'Meses' ].edad.unique()"
   ]
  },
  {
   "cell_type": "code",
   "execution_count": null,
   "id": "fb9a9a4d",
   "metadata": {},
   "outputs": [],
   "source": [
    "binarias = ['requirio_uci', 'requirio_arm', 'indicador_fallecimiento']\n",
    "categoricas = ['sexo', 'departamento_residencia']\n"
   ]
  },
  {
   "cell_type": "code",
   "execution_count": null,
   "id": "3a4b97b0",
   "metadata": {},
   "outputs": [],
   "source": [
    "for col in binarias:\n",
    "    df[col] = df[col].apply(lambda x: 1 if x == 'SI' else 0)"
   ]
  },
  {
   "cell_type": "code",
   "execution_count": null,
   "id": "ce82ed52",
   "metadata": {},
   "outputs": [],
   "source": [
    "for col in categoricas:\n",
    "    df[col] = df[col].astype('category')"
   ]
  },
  {
   "cell_type": "code",
   "execution_count": null,
   "id": "9e38cbc1",
   "metadata": {},
   "outputs": [],
   "source": [
    "df['edad'] = pd.to_numeric(df['edad'], errors='coerce')"
   ]
  },
  {
   "cell_type": "code",
   "execution_count": null,
   "id": "5c54feca",
   "metadata": {},
   "outputs": [],
   "source": [
    "df['edad_estandarizada'] = df.apply(\n",
    "    lambda row: row['edad'] / 12 if row['edad_años_meses'] == 'Meses' else row['edad'],\n",
    "    axis=1\n",
    ")"
   ]
  },
  {
   "cell_type": "code",
   "execution_count": null,
   "id": "4c01c608",
   "metadata": {},
   "outputs": [],
   "source": [
    "# Filtrar edades válidas\n",
    "df = df[(df['edad_estandarizada'] >= 0) & (df['edad_estandarizada'] <= 105)]"
   ]
  },
  {
   "cell_type": "code",
   "execution_count": null,
   "id": "4ed855d1",
   "metadata": {},
   "outputs": [],
   "source": [
    "# Crear grupos etarios\n",
    "df['grupo_edad'] = pd.cut(\n",
    "    df['edad_estandarizada'],\n",
    "    bins=[0, 2, 12, 18, 30, 50, 65, 100, 105],\n",
    "    labels=['0-2', '3-12', '13-18', '19-30', '31-50', '51-65', '65-100', '100+']\n",
    ")"
   ]
  },
  {
   "cell_type": "code",
   "execution_count": null,
   "id": "12d1f297",
   "metadata": {},
   "outputs": [],
   "source": [
    "# infantes = df[df['edad_años_meses'] == 'Meses' ]\n",
    "# df = df[df['edad_años_meses'] != 'Meses' ]\n",
    "\n",
    "# Ya que los valores se en la misma columna, podemos eliminar la columna \"edad_años_meses\"\n",
    "df.drop(columns='edad_años_meses', inplace=True)"
   ]
  },
  {
   "cell_type": "code",
   "execution_count": null,
   "id": "501a0ed7",
   "metadata": {},
   "outputs": [],
   "source": [
    "df['clasificacion_caso'] = df['clasificacion_caso'].astype('category')"
   ]
  },
  {
   "cell_type": "code",
   "execution_count": null,
   "id": "64865bb3",
   "metadata": {},
   "outputs": [],
   "source": [
    "df.dtypes"
   ]
  },
  {
   "cell_type": "code",
   "execution_count": null,
   "id": "cdccb9ce",
   "metadata": {},
   "outputs": [],
   "source": [
    "df.head(10)"
   ]
  },
  {
   "cell_type": "code",
   "execution_count": null,
   "id": "ccd2da43",
   "metadata": {},
   "outputs": [],
   "source": [
    "# exportamos el dataframe a un archivo csv\n",
    "df.to_csv('./data/Covid19Casos_Formosa.csv', index=False)"
   ]
  },
  {
   "cell_type": "code",
   "execution_count": null,
   "id": "ab12718c",
   "metadata": {},
   "outputs": [],
   "source": [
    "plt.figure(figsize=(10,6))\n",
    "df['edad_estandarizada'].plot(kind='hist', bins=40, color='skyblue', edgecolor='black')\n",
    "plt.title('Distribución de Edad (Formosa)')\n",
    "plt.xlabel('Edad (años)')\n",
    "plt.ylabel('Cantidad de casos')\n",
    "plt.grid(True)\n",
    "plt.tight_layout()\n",
    "plt.show()"
   ]
  },
  {
   "cell_type": "code",
   "execution_count": null,
   "id": "a7cadb9a",
   "metadata": {},
   "outputs": [],
   "source": [
    "casos_departamento = df[df['clasificacion_caso'] == 'Confirmado'].groupby('departamento_residencia').size().sort_values()\n",
    "plt.figure(figsize=(12,10))\n",
    "casos_departamento.plot(kind='barh', color='steelblue', edgecolor='black')\n",
    "plt.title('Casos Confirmados por Departamento - Formosa')\n",
    "plt.xlabel('Cantidad de Casos Confirmados')\n",
    "plt.ylabel('Departamento')\n",
    "plt.tight_layout()\n",
    "plt.show()"
   ]
  },
  {
   "cell_type": "code",
   "execution_count": null,
   "id": "8f98317c",
   "metadata": {},
   "outputs": [],
   "source": [
    "plt.figure(figsize=(10,6))\n",
    "df['edad_estandarizada'].plot(kind='hist', bins=20, color='slategray', edgecolor='black')\n",
    "plt.title('Distribución de Edad (Agrupada) - Casos COVID-19 en Formosa')\n",
    "plt.xlabel('Edad en años')\n",
    "plt.ylabel('Frecuencia')\n",
    "plt.grid(True)\n",
    "plt.tight_layout()\n",
    "plt.show()"
   ]
  },
  {
   "cell_type": "code",
   "execution_count": null,
   "id": "1378cfa6",
   "metadata": {},
   "outputs": [],
   "source": [
    "plt.figure(figsize=(10,6))\n",
    "df['grupo_edad'].value_counts().sort_index().plot(kind='bar', color='salmon', edgecolor='black')\n",
    "plt.title('Casos por Grupo Etario (Formosa)')\n",
    "plt.xlabel('Grupo de Edad')\n",
    "plt.ylabel('Cantidad de Casos')\n",
    "plt.xticks(rotation=0)\n",
    "plt.grid(axis='y')\n",
    "plt.tight_layout()\n",
    "plt.show()\n"
   ]
  },
  {
   "cell_type": "code",
   "execution_count": null,
   "id": "6f3d5c79",
   "metadata": {},
   "outputs": [],
   "source": [
    "casos_por_fecha = df[df['clasificacion_caso'] == 'Confirmado'].groupby('fecha_diagnostico').size()\n",
    "plt.figure(figsize=(12,6))\n",
    "casos_por_fecha.plot(kind='line', color='teal')\n",
    "plt.title('Evolución Temporal de Casos Confirmados - Formosa')\n",
    "plt.xlabel('Fecha de Diagnóstico')\n",
    "plt.ylabel('Cantidad de Casos Confirmados')\n",
    "plt.grid(True)\n",
    "plt.tight_layout()\n",
    "plt.show()"
   ]
  },
  {
   "cell_type": "code",
   "execution_count": null,
   "id": "01f68e62",
   "metadata": {},
   "outputs": [],
   "source": [
    "casos_por_semana = df.groupby('sem_epidemiologica').size()\n",
    "plt.figure(figsize=(12,6))\n",
    "casos_por_semana.plot(kind='bar', color='orange', edgecolor='black')\n",
    "plt.title('Casos por Semana Epidemiológica - Formosa')\n",
    "plt.xlabel('Semana Epidemiológica')\n",
    "plt.ylabel('Cantidad de Casos')\n",
    "plt.tight_layout()\n",
    "plt.show()"
   ]
  },
  {
   "cell_type": "code",
   "execution_count": null,
   "id": "e72270f1",
   "metadata": {},
   "outputs": [],
   "source": [
    "uci_por_edad = df[df['requirio_uci'] == True]['grupo_edad'].value_counts().sort_index()\n",
    "plt.figure(figsize=(10,6))\n",
    "uci_por_edad.plot(kind='bar', color='purple', edgecolor='black')\n",
    "plt.title('Casos en UCI por Grupo Etario')\n",
    "plt.xlabel('Grupo de Edad')\n",
    "plt.ylabel('Cantidad de Casos en UCI')\n",
    "plt.xticks(rotation=0)\n",
    "plt.tight_layout()\n",
    "plt.show()\n"
   ]
  },
  {
   "cell_type": "code",
   "execution_count": null,
   "id": "5c86fb65",
   "metadata": {},
   "outputs": [],
   "source": [
    "arm_por_edad = df[df['requirio_arm'] == True]['grupo_edad'].value_counts().sort_index()\n",
    "plt.figure(figsize=(10,6))\n",
    "arm_por_edad.plot(kind='area', color='darkred', edgecolor='black')\n",
    "plt.title('Casos con Asistencia Respiratoria Mecánica por Grupo Etario')\n",
    "plt.xlabel('Grupo de Edad')\n",
    "plt.ylabel('Cantidad de Casos con ARM')\n",
    "plt.xticks(rotation=0)\n",
    "plt.tight_layout()\n",
    "plt.show()"
   ]
  },
  {
   "cell_type": "code",
   "execution_count": null,
   "id": "21ffad95",
   "metadata": {},
   "outputs": [],
   "source": [
    "fallecidos = df[df['indicador_fallecimiento'] == True]\n",
    "plt.figure(figsize=(12,6))\n",
    "fallecidos.groupby('grupo_edad', observed=False)['sexo'].value_counts().unstack().plot(kind='bar', stacked=True)\n",
    "plt.title('Fallecimientos por Grupo Etario y Sexo')\n",
    "plt.xlabel('Grupo de Edad')\n",
    "plt.ylabel('Cantidad de Fallecidos')\n",
    "plt.xticks(rotation=0)\n",
    "plt.tight_layout()\n",
    "plt.show()\n"
   ]
  }
 ],
 "metadata": {
  "kernelspec": {
   "display_name": "tp1_big_data",
   "language": "python",
   "name": "python3"
  },
  "language_info": {
   "codemirror_mode": {
    "name": "ipython",
    "version": 3
   },
   "file_extension": ".py",
   "mimetype": "text/x-python",
   "name": "python",
   "nbconvert_exporter": "python",
   "pygments_lexer": "ipython3",
   "version": "3.13.2"
  }
 },
 "nbformat": 4,
 "nbformat_minor": 5
}
