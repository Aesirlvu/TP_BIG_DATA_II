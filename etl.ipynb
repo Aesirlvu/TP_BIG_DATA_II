{
 "cells": [
  {
   "cell_type": "markdown",
   "id": "f07755a8",
   "metadata": {},
   "source": [
    "# 📊 Análisis de Casos COVID ‑ Formosa: Flujo ETL y Exploración de Datos\n",
    "\n",
    "> ⚙️ *Este notebook concentra el ciclo completo de procesamiento masivo de datos COVID‑19 en Argentina, con foco en la provincia de Formosa.*  \n",
    "> 💾 **Volumen inicial:** 6 GB, 30 millones de registros  \n",
    "> 🗓️ **Período:** 01/03/2020 – 04/06/2022\n",
    "\n",
    "---\n",
    "\n",
    "## 📋 Resumen General del Dataset\n",
    "\n",
    "- 🔢 **Total de registros:** `797.429`\n",
    "- 📄 **Total de columnas:** `25`  \n",
    "- 📌 **Alcance:** Dataset filtrado exclusivamente para la provincia de Formosa\n",
    "- 🧠 **Objetivo:** Comprender la evolución temporal, distribución geográfica y características demográficas de los casos COVID en Formosa\n",
    "\n",
    "---\n",
    "\n",
    "## 🧭 1. ¿Por qué este análisis?\n",
    "\n",
    "Este trabajo consiste en seleccionar un dataset de preferencia, en este caso vamos a trabajar con el dataset que cuenta con la información de \"Casos de Covid19 durante la pandemia\"\n",
    "\n",
    "limitando el alcance del dataset y trabajando unicamente con los datos que pertenezcan a la provincia de Formosa.\n",
    "\n",
    "\n",
    "---\n",
    "\n",
    "## 🎯 2. Objetivos\n",
    "\n",
    "### 🔄 Flujo ETL Completo\n",
    "\n",
    "1. **📥 Extracción**: Leer los datos por bloques y seleccionar solo Formosa.  \n",
    "2. **🧹 Transformación**: Estandarizar, limpiar y validar.  \n",
    "3. **💾 Carga**: Exportar los datos listos para análisis.\n",
    "\n",
    "### 🔬 Exploración y Visualización\n",
    "\n",
    "4. **📊 Estadísticas**: \n",
    "   - Casos totales por departamento y localidad\n",
    "   - Fallecimientos por grupo etario y género\n",
    "   - Clasificaciones de casos (confirmados, sospechosos)\n",
    "   - Pacientes en cuidados intensivos\n",
    "   - Tiempo entre diagnóstico y primeros síntomas\n",
    "   - Casos por semana epidemiológica\n",
    "   - Índice de mortalidad en personas jóvenes (<30 años)\n",
    "   - Uso de asistencia respiratoria mecánica por edad\n",
    "\n",
    "5. **📈 Gráficos**: \n",
    "   - Series de tiempo para evolución de casos\n",
    "   - Distribución geográfica de severidad\n",
    "   - Análisis demográfico por género y edad\n",
    "   - Comparativas entre clasificaciones y resultados\n",
    "\n",
    "---\n",
    "\n",
    "## 🛠️ 3. Metodología ETL Unificada\n",
    "\n",
    "### 📤 3.1 Ingestión por Fragmentos\n",
    "\n",
    "- ✅ Selección de columnas clave: `provincia`, `fecha_inicio_sintomas`, `clasificacion`, `fallecido`.  \n",
    "- ✅ Filtro temprano: conservar solo **Formosa**.\n",
    "\n",
    "### 🧼 3.2 Limpieza de Datos\n",
    "\n",
    "- 🗃️ Normalización de fechas y categorías.  \n",
    "\n",
    "## 📊 4. Análisis Exploratorio\n",
    "\n",
    "### 📌 4.1 Estadísticas Básicas\n",
    "\n",
    "- 🔢 Total de casos registrados por departamento.  \n",
    "- ⚰️ Cantidad de fallecimientos por grupo etario y género.  \n",
    "- 🧾 Clasificación por tipo de caso (confirmado, sospechoso, etc.).\n",
    "- 🏥 Casos que requirieron atención en UCI.\n",
    "\n",
    "### 📅 4.2 Tendencias Temporales\n",
    "\n",
    "- 📆 Evolución diaria y acumulada.  \n",
    "- 🚨 Detección de picos y brotes.\n",
    "- 📊 Cantidad de infectados por semana epidemiológica.\n",
    "\n",
    "### 🧮 4.3 Métricas Derivadas\n",
    "\n",
    "- ⏱️ Intervalo entre diagnóstico y aparición de síntomas.\n",
    "- 👶 Índice de mortalidad en personas menores de 30 años.\n",
    "- 👥 Análisis de mortalidad por género.\n",
    "- 🫁 Pacientes que necesitaron asistencia respiratoria mecánica por edad.\n",
    "\n",
    "---\n",
    "\n",
    "## 📈 5. Visualización de Resultados\n",
    "\n",
    "- 📍 **Línea temporal**: Casos diarios acumulados.  \n",
    "- 🧱 **Histograma**: Intervalos clave entre eventos clínicos.  \n",
    "- 🧮 **Gráfico de barras**: Asociación entre tipo de caso y desenlace.\n",
    "- 🗺️ **Mapas geográficos**: Distribución de casos y severidad usando geopandas o folium."
   ]
  },
  {
   "cell_type": "code",
   "execution_count": 1,
   "id": "bb8e93be",
   "metadata": {},
   "outputs": [],
   "source": [
    "import pandas as pd\n",
    "import matplotlib.pyplot as plt"
   ]
  },
  {
   "cell_type": "code",
   "execution_count": 2,
   "id": "6b37e0a2",
   "metadata": {},
   "outputs": [],
   "source": [
    "# utilizamos parse_dates con la lista de fechas para que pandas las convierta a datetime\n",
    "# y no tengamos que hacerlo manualmente después\n",
    "\n",
    "df = pd.read_csv('Covid19Casos.csv')"
   ]
  },
  {
   "cell_type": "code",
   "execution_count": 3,
   "id": "a073cbac",
   "metadata": {},
   "outputs": [
    {
     "data": {
      "text/plain": [
       "id_evento_caso                        int64\n",
       "sexo                                 object\n",
       "edad                                float64\n",
       "edad_años_meses                      object\n",
       "residencia_pais_nombre               object\n",
       "residencia_provincia_nombre          object\n",
       "residencia_departamento_nombre       object\n",
       "carga_provincia_nombre               object\n",
       "fecha_inicio_sintomas                object\n",
       "fecha_apertura                       object\n",
       "sepi_apertura                         int64\n",
       "fecha_internacion                    object\n",
       "cuidado_intensivo                    object\n",
       "fecha_cui_intensivo                  object\n",
       "fallecido                            object\n",
       "fecha_fallecimiento                  object\n",
       "asistencia_respiratoria_mecanica     object\n",
       "carga_provincia_id                    int64\n",
       "origen_financiamiento                object\n",
       "clasificacion                        object\n",
       "clasificacion_resumen                object\n",
       "residencia_provincia_id               int64\n",
       "fecha_diagnostico                    object\n",
       "residencia_departamento_id            int64\n",
       "ultima_actualizacion                 object\n",
       "dtype: object"
      ]
     },
     "execution_count": 3,
     "metadata": {},
     "output_type": "execute_result"
    }
   ],
   "source": [
    "df.dtypes"
   ]
  },
  {
   "cell_type": "code",
   "execution_count": 4,
   "id": "a36f2323",
   "metadata": {},
   "outputs": [],
   "source": [
    "# ya que vamos a trabajar unicamente con la provincia de Formosa\n",
    "# vamos a delimitar dicho alcance\n",
    "formosa_df = df[df['residencia_provincia_nombre'] == 'Formosa']\n",
    "formosa_df = formosa_df.reset_index(drop=True)\n",
    "\n",
    "df = formosa_df.copy()\n"
   ]
  },
  {
   "cell_type": "code",
   "execution_count": 5,
   "id": "74de192d",
   "metadata": {},
   "outputs": [
    {
     "data": {
      "text/html": [
       "<div>\n",
       "<style scoped>\n",
       "    .dataframe tbody tr th:only-of-type {\n",
       "        vertical-align: middle;\n",
       "    }\n",
       "\n",
       "    .dataframe tbody tr th {\n",
       "        vertical-align: top;\n",
       "    }\n",
       "\n",
       "    .dataframe thead th {\n",
       "        text-align: right;\n",
       "    }\n",
       "</style>\n",
       "<table border=\"1\" class=\"dataframe\">\n",
       "  <thead>\n",
       "    <tr style=\"text-align: right;\">\n",
       "      <th></th>\n",
       "      <th>id_evento_caso</th>\n",
       "      <th>sexo</th>\n",
       "      <th>edad</th>\n",
       "      <th>edad_años_meses</th>\n",
       "      <th>residencia_pais_nombre</th>\n",
       "      <th>residencia_provincia_nombre</th>\n",
       "      <th>residencia_departamento_nombre</th>\n",
       "      <th>carga_provincia_nombre</th>\n",
       "      <th>fecha_inicio_sintomas</th>\n",
       "      <th>fecha_apertura</th>\n",
       "      <th>...</th>\n",
       "      <th>fecha_fallecimiento</th>\n",
       "      <th>asistencia_respiratoria_mecanica</th>\n",
       "      <th>carga_provincia_id</th>\n",
       "      <th>origen_financiamiento</th>\n",
       "      <th>clasificacion</th>\n",
       "      <th>clasificacion_resumen</th>\n",
       "      <th>residencia_provincia_id</th>\n",
       "      <th>fecha_diagnostico</th>\n",
       "      <th>residencia_departamento_id</th>\n",
       "      <th>ultima_actualizacion</th>\n",
       "    </tr>\n",
       "  </thead>\n",
       "  <tbody>\n",
       "    <tr>\n",
       "      <th>0</th>\n",
       "      <td>1000007</td>\n",
       "      <td>M</td>\n",
       "      <td>27.0</td>\n",
       "      <td>Años</td>\n",
       "      <td>Argentina</td>\n",
       "      <td>Formosa</td>\n",
       "      <td>Patiño</td>\n",
       "      <td>Formosa</td>\n",
       "      <td>NaN</td>\n",
       "      <td>2020-06-01</td>\n",
       "      <td>...</td>\n",
       "      <td>NaN</td>\n",
       "      <td>NO</td>\n",
       "      <td>34</td>\n",
       "      <td>Público</td>\n",
       "      <td>Caso confirmado por laboratorio - No Activo po...</td>\n",
       "      <td>Confirmado</td>\n",
       "      <td>34</td>\n",
       "      <td>2020-06-25</td>\n",
       "      <td>35</td>\n",
       "      <td>2022-06-05</td>\n",
       "    </tr>\n",
       "    <tr>\n",
       "      <th>1</th>\n",
       "      <td>1000081</td>\n",
       "      <td>M</td>\n",
       "      <td>59.0</td>\n",
       "      <td>Años</td>\n",
       "      <td>Argentina</td>\n",
       "      <td>Formosa</td>\n",
       "      <td>Laishi</td>\n",
       "      <td>Formosa</td>\n",
       "      <td>NaN</td>\n",
       "      <td>2020-06-01</td>\n",
       "      <td>...</td>\n",
       "      <td>NaN</td>\n",
       "      <td>NO</td>\n",
       "      <td>34</td>\n",
       "      <td>Público</td>\n",
       "      <td>Caso confirmado por laboratorio - No Activo po...</td>\n",
       "      <td>Confirmado</td>\n",
       "      <td>34</td>\n",
       "      <td>2020-06-20</td>\n",
       "      <td>21</td>\n",
       "      <td>2022-06-05</td>\n",
       "    </tr>\n",
       "    <tr>\n",
       "      <th>2</th>\n",
       "      <td>1000138</td>\n",
       "      <td>M</td>\n",
       "      <td>38.0</td>\n",
       "      <td>Años</td>\n",
       "      <td>Argentina</td>\n",
       "      <td>Formosa</td>\n",
       "      <td>Laishi</td>\n",
       "      <td>Formosa</td>\n",
       "      <td>NaN</td>\n",
       "      <td>2020-06-01</td>\n",
       "      <td>...</td>\n",
       "      <td>NaN</td>\n",
       "      <td>NO</td>\n",
       "      <td>34</td>\n",
       "      <td>Público</td>\n",
       "      <td>Caso confirmado por laboratorio - No Activo po...</td>\n",
       "      <td>Confirmado</td>\n",
       "      <td>34</td>\n",
       "      <td>2020-06-25</td>\n",
       "      <td>21</td>\n",
       "      <td>2022-06-05</td>\n",
       "    </tr>\n",
       "    <tr>\n",
       "      <th>3</th>\n",
       "      <td>10002306</td>\n",
       "      <td>F</td>\n",
       "      <td>56.0</td>\n",
       "      <td>Años</td>\n",
       "      <td>Argentina</td>\n",
       "      <td>Formosa</td>\n",
       "      <td>Pilagás</td>\n",
       "      <td>CABA</td>\n",
       "      <td>NaN</td>\n",
       "      <td>2021-04-08</td>\n",
       "      <td>...</td>\n",
       "      <td>NaN</td>\n",
       "      <td>NO</td>\n",
       "      <td>2</td>\n",
       "      <td>Público</td>\n",
       "      <td>Caso Descartado</td>\n",
       "      <td>Descartado</td>\n",
       "      <td>34</td>\n",
       "      <td>2021-04-06</td>\n",
       "      <td>42</td>\n",
       "      <td>2022-06-05</td>\n",
       "    </tr>\n",
       "    <tr>\n",
       "      <th>4</th>\n",
       "      <td>10002477</td>\n",
       "      <td>M</td>\n",
       "      <td>56.0</td>\n",
       "      <td>Años</td>\n",
       "      <td>Argentina</td>\n",
       "      <td>Formosa</td>\n",
       "      <td>Pilcomayo</td>\n",
       "      <td>Formosa</td>\n",
       "      <td>NaN</td>\n",
       "      <td>2021-04-08</td>\n",
       "      <td>...</td>\n",
       "      <td>NaN</td>\n",
       "      <td>NO</td>\n",
       "      <td>34</td>\n",
       "      <td>Público</td>\n",
       "      <td>Caso Descartado</td>\n",
       "      <td>Descartado</td>\n",
       "      <td>34</td>\n",
       "      <td>2021-04-08</td>\n",
       "      <td>49</td>\n",
       "      <td>2022-06-05</td>\n",
       "    </tr>\n",
       "  </tbody>\n",
       "</table>\n",
       "<p>5 rows × 25 columns</p>\n",
       "</div>"
      ],
      "text/plain": [
       "   id_evento_caso sexo  edad edad_años_meses residencia_pais_nombre  \\\n",
       "0         1000007    M  27.0            Años              Argentina   \n",
       "1         1000081    M  59.0            Años              Argentina   \n",
       "2         1000138    M  38.0            Años              Argentina   \n",
       "3        10002306    F  56.0            Años              Argentina   \n",
       "4        10002477    M  56.0            Años              Argentina   \n",
       "\n",
       "  residencia_provincia_nombre residencia_departamento_nombre  \\\n",
       "0                     Formosa                         Patiño   \n",
       "1                     Formosa                         Laishi   \n",
       "2                     Formosa                         Laishi   \n",
       "3                     Formosa                        Pilagás   \n",
       "4                     Formosa                      Pilcomayo   \n",
       "\n",
       "  carga_provincia_nombre fecha_inicio_sintomas fecha_apertura  ...  \\\n",
       "0                Formosa                   NaN     2020-06-01  ...   \n",
       "1                Formosa                   NaN     2020-06-01  ...   \n",
       "2                Formosa                   NaN     2020-06-01  ...   \n",
       "3                   CABA                   NaN     2021-04-08  ...   \n",
       "4                Formosa                   NaN     2021-04-08  ...   \n",
       "\n",
       "   fecha_fallecimiento asistencia_respiratoria_mecanica carga_provincia_id  \\\n",
       "0                  NaN                               NO                 34   \n",
       "1                  NaN                               NO                 34   \n",
       "2                  NaN                               NO                 34   \n",
       "3                  NaN                               NO                  2   \n",
       "4                  NaN                               NO                 34   \n",
       "\n",
       "  origen_financiamiento                                      clasificacion  \\\n",
       "0               Público  Caso confirmado por laboratorio - No Activo po...   \n",
       "1               Público  Caso confirmado por laboratorio - No Activo po...   \n",
       "2               Público  Caso confirmado por laboratorio - No Activo po...   \n",
       "3               Público                                    Caso Descartado   \n",
       "4               Público                                    Caso Descartado   \n",
       "\n",
       "  clasificacion_resumen residencia_provincia_id  fecha_diagnostico  \\\n",
       "0            Confirmado                      34         2020-06-25   \n",
       "1            Confirmado                      34         2020-06-20   \n",
       "2            Confirmado                      34         2020-06-25   \n",
       "3            Descartado                      34         2021-04-06   \n",
       "4            Descartado                      34         2021-04-08   \n",
       "\n",
       "  residencia_departamento_id ultima_actualizacion  \n",
       "0                         35           2022-06-05  \n",
       "1                         21           2022-06-05  \n",
       "2                         21           2022-06-05  \n",
       "3                         42           2022-06-05  \n",
       "4                         49           2022-06-05  \n",
       "\n",
       "[5 rows x 25 columns]"
      ]
     },
     "execution_count": 5,
     "metadata": {},
     "output_type": "execute_result"
    }
   ],
   "source": [
    "df.head()"
   ]
  },
  {
   "cell_type": "code",
   "execution_count": 6,
   "id": "2b9a4610",
   "metadata": {},
   "outputs": [
    {
     "name": "stdout",
     "output_type": "stream",
     "text": [
      "Cantidad de registros: 797429 / Cantidad de columnas: 25\n",
      "\n",
      "Tipos de datos:\n",
      "id_evento_caso                        int64\n",
      "sexo                                 object\n",
      "edad                                float64\n",
      "edad_años_meses                      object\n",
      "residencia_pais_nombre               object\n",
      "residencia_provincia_nombre          object\n",
      "residencia_departamento_nombre       object\n",
      "carga_provincia_nombre               object\n",
      "fecha_inicio_sintomas                object\n",
      "fecha_apertura                       object\n",
      "sepi_apertura                         int64\n",
      "fecha_internacion                    object\n",
      "cuidado_intensivo                    object\n",
      "fecha_cui_intensivo                  object\n",
      "fallecido                            object\n",
      "fecha_fallecimiento                  object\n",
      "asistencia_respiratoria_mecanica     object\n",
      "carga_provincia_id                    int64\n",
      "origen_financiamiento                object\n",
      "clasificacion                        object\n",
      "clasificacion_resumen                object\n",
      "residencia_provincia_id               int64\n",
      "fecha_diagnostico                    object\n",
      "residencia_departamento_id            int64\n",
      "ultima_actualizacion                 object\n",
      "dtype: object\n"
     ]
    }
   ],
   "source": [
    "# Visualizamos la cantidad de registros y columnas del df\n",
    "\n",
    "print(f'Cantidad de registros: {df.shape[0]}', end=' / ')\n",
    "print(f'Cantidad de columnas: {df.shape[1]}')\n",
    "\n",
    "# y los tipos de datos de cada columna\n",
    "\n",
    "print('\\nTipos de datos:')\n",
    "print(df.dtypes)"
   ]
  },
  {
   "cell_type": "code",
   "execution_count": 7,
   "id": "6bcc7986",
   "metadata": {},
   "outputs": [
    {
     "name": "stdout",
     "output_type": "stream",
     "text": [
      "['id_evento_caso', 'residencia_pais_nombre', 'residencia_provincia_nombre', 'origen_financiamiento', 'clasificacion', 'carga_provincia_id', 'ultima_actualizacion', 'residencia_departamento_id', 'residencia_provincia_id']\n"
     ]
    }
   ],
   "source": [
    "# hay muchas columnas que no nos interesan para este análisis,\n",
    "# como por ej: el pais, y el nombre  de la provincia, \n",
    "# ya que hemos delimitado previamente el alcance\n",
    "# tambien: origen_financiamiento, carga_provincia_id, ultima_actualizacion, residencia_departamento_id, y residencia_provincia_id\n",
    "\n",
    "drop_cols = []\n",
    "\n",
    "\n",
    "drop_cols.append('id_evento_caso')\n",
    "drop_cols.append('residencia_pais_nombre')\n",
    "drop_cols.append('residencia_provincia_nombre')\n",
    "\n",
    "# quiza sea necesaria para un analisis de \n",
    "# por ejemplo \n",
    "# drop_cols.append('carga_provincia_nombre')\n",
    "drop_cols.append('origen_financiamiento')\n",
    "drop_cols.append('clasificacion')\n",
    "drop_cols.append('carga_provincia_id')\n",
    "drop_cols.append('ultima_actualizacion')\n",
    "drop_cols.append('residencia_departamento_id')\n",
    "drop_cols.append('residencia_provincia_id')\n",
    "\n",
    "print(drop_cols)"
   ]
  },
  {
   "cell_type": "code",
   "execution_count": 8,
   "id": "6d4b1444",
   "metadata": {},
   "outputs": [
    {
     "name": "stdout",
     "output_type": "stream",
     "text": [
      "Columnas restantes: Index(['sexo', 'edad', 'edad_años_meses', 'residencia_departamento_nombre',\n",
      "       'carga_provincia_nombre', 'fecha_inicio_sintomas', 'fecha_apertura',\n",
      "       'sepi_apertura', 'fecha_internacion', 'cuidado_intensivo',\n",
      "       'fecha_cui_intensivo', 'fallecido', 'fecha_fallecimiento',\n",
      "       'asistencia_respiratoria_mecanica', 'clasificacion_resumen',\n",
      "       'fecha_diagnostico'],\n",
      "      dtype='object')\n"
     ]
    }
   ],
   "source": [
    "df.drop(columns=drop_cols, inplace=True)\n",
    "\n",
    "print(f'Columnas restantes: {df.columns}')"
   ]
  },
  {
   "cell_type": "code",
   "execution_count": 9,
   "id": "d4807181",
   "metadata": {},
   "outputs": [
    {
     "data": {
      "text/plain": [
       "sexo                                 object\n",
       "edad                                float64\n",
       "edad_años_meses                      object\n",
       "residencia_departamento_nombre       object\n",
       "carga_provincia_nombre               object\n",
       "fecha_inicio_sintomas                object\n",
       "fecha_apertura                       object\n",
       "sepi_apertura                         int64\n",
       "fecha_internacion                    object\n",
       "cuidado_intensivo                    object\n",
       "fecha_cui_intensivo                  object\n",
       "fallecido                            object\n",
       "fecha_fallecimiento                  object\n",
       "asistencia_respiratoria_mecanica     object\n",
       "clasificacion_resumen                object\n",
       "fecha_diagnostico                    object\n",
       "dtype: object"
      ]
     },
     "execution_count": 9,
     "metadata": {},
     "output_type": "execute_result"
    }
   ],
   "source": [
    "# Hemos eliminado las columnas que no nos interesan\n",
    "# y ahora vamos a ver los tipos de datos nuevamente\n",
    "# ya que todavia necesitamos convertir las fechas a datetime\n",
    "df.dtypes"
   ]
  },
  {
   "cell_type": "code",
   "execution_count": 10,
   "id": "00677a13",
   "metadata": {},
   "outputs": [
    {
     "name": "stdout",
     "output_type": "stream",
     "text": [
      "Cantidad de registros: 797429 / Cantidad de columnas: 16\n"
     ]
    }
   ],
   "source": [
    "print(f'Cantidad de registros: {df.shape[0]}', end=' / ')\n",
    "print(f'Cantidad de columnas: {df.shape[1]}')"
   ]
  },
  {
   "cell_type": "code",
   "execution_count": 11,
   "id": "aec64e44",
   "metadata": {},
   "outputs": [],
   "source": [
    "renombres = {\n",
    "    'residencia_departamento_nombre': 'departamento_residencia',\n",
    "    'fecha_inicio_sintomas': 'fecha_inicio_sintomas',\n",
    "    'sepi_apertura': 'sem_epidemiologica',\n",
    "    'cuidado_intensivo': 'requirio_uci', \n",
    "    'fecha_cui_intensivo': 'fecha_ingreso_uci',\n",
    "    'fallecido': 'indicador_fallecimiento',\n",
    "    'fecha_fallecimiento': 'fecha_fallecimiento',\n",
    "    'asistencia_respiratoria_mecanica': 'requirio_arm',\n",
    "    'clasificacion_resumen': 'clasificacion_caso',\n",
    "}\n",
    "\n",
    "df.rename(columns=renombres, inplace=True)\n"
   ]
  },
  {
   "cell_type": "code",
   "execution_count": 12,
   "id": "80db3429",
   "metadata": {},
   "outputs": [
    {
     "data": {
      "text/plain": [
       "Index(['sexo', 'edad', 'edad_años_meses', 'departamento_residencia',\n",
       "       'carga_provincia_nombre', 'fecha_inicio_sintomas', 'fecha_apertura',\n",
       "       'sem_epidemiologica', 'fecha_internacion', 'requirio_uci',\n",
       "       'fecha_ingreso_uci', 'indicador_fallecimiento', 'fecha_fallecimiento',\n",
       "       'requirio_arm', 'clasificacion_caso', 'fecha_diagnostico'],\n",
       "      dtype='object')"
      ]
     },
     "execution_count": 12,
     "metadata": {},
     "output_type": "execute_result"
    }
   ],
   "source": [
    "df.columns"
   ]
  },
  {
   "cell_type": "code",
   "execution_count": 13,
   "id": "dbd59248",
   "metadata": {},
   "outputs": [],
   "source": [
    "df['fecha_inicio_sintomas'] = pd.to_datetime(df['fecha_inicio_sintomas'], errors='coerce')\n",
    "df['fecha_apertura'] = pd.to_datetime(df['fecha_apertura'], errors='coerce')\n",
    "df['fecha_internacion'] = pd.to_datetime(df['fecha_internacion'], errors='coerce')\n",
    "df['fecha_ingreso_uci'] = pd.to_datetime(df['fecha_ingreso_uci'], errors='coerce')\n",
    "df['fecha_fallecimiento'] = pd.to_datetime(df['fecha_fallecimiento'], errors='coerce')\n",
    "df['fecha_diagnostico'] = pd.to_datetime(df['fecha_diagnostico'], errors='coerce')\n"
   ]
  },
  {
   "cell_type": "code",
   "execution_count": 14,
   "id": "297680c2",
   "metadata": {},
   "outputs": [
    {
     "data": {
      "text/plain": [
       "sexo                               object\n",
       "edad                              float64\n",
       "edad_años_meses                    object\n",
       "departamento_residencia            object\n",
       "carga_provincia_nombre             object\n",
       "fecha_inicio_sintomas      datetime64[ns]\n",
       "fecha_apertura             datetime64[ns]\n",
       "sem_epidemiologica                  int64\n",
       "fecha_internacion          datetime64[ns]\n",
       "requirio_uci                       object\n",
       "fecha_ingreso_uci          datetime64[ns]\n",
       "indicador_fallecimiento            object\n",
       "fecha_fallecimiento        datetime64[ns]\n",
       "requirio_arm                       object\n",
       "clasificacion_caso                 object\n",
       "fecha_diagnostico          datetime64[ns]\n",
       "dtype: object"
      ]
     },
     "execution_count": 14,
     "metadata": {},
     "output_type": "execute_result"
    }
   ],
   "source": [
    "# pudimos convertir las fechas a un tipo datetime\n",
    "# y esto nos va a permitir trabajar mejor con los datos\n",
    "# y hacer graficos de series de tiempo, por ejemplo\n",
    "df.dtypes"
   ]
  },
  {
   "cell_type": "code",
   "execution_count": 15,
   "id": "1b6598dc",
   "metadata": {},
   "outputs": [
    {
     "data": {
      "text/plain": [
       "edad_años_meses\n",
       "Años     797170\n",
       "Meses       259\n",
       "Name: count, dtype: int64"
      ]
     },
     "execution_count": 15,
     "metadata": {},
     "output_type": "execute_result"
    }
   ],
   "source": [
    "\n",
    "df['edad_años_meses'].value_counts()"
   ]
  },
  {
   "cell_type": "code",
   "execution_count": 16,
   "id": "e5cebddc",
   "metadata": {},
   "outputs": [
    {
     "name": "stdout",
     "output_type": "stream",
     "text": [
      "edad máxima: 222.0\n",
      "edad minima: 1.0\n"
     ]
    }
   ],
   "source": [
    "print(f\"edad máxima: {df['edad'].max()}\")\n",
    "print(f\"edad minima: {df['edad'].min()}\")"
   ]
  },
  {
   "cell_type": "code",
   "execution_count": 17,
   "id": "154af433",
   "metadata": {},
   "outputs": [
    {
     "data": {
      "text/plain": [
       "array([11., 10.,  9.,  8.,  7.,  6.,  5.,  4.,  3.,  2.,  1.])"
      ]
     },
     "execution_count": 17,
     "metadata": {},
     "output_type": "execute_result"
    }
   ],
   "source": [
    "df[df['edad_años_meses'] == 'Meses' ].edad.unique()"
   ]
  },
  {
   "cell_type": "code",
   "execution_count": 18,
   "id": "fb9a9a4d",
   "metadata": {},
   "outputs": [],
   "source": [
    "binarias = ['requirio_uci', 'requirio_arm', 'indicador_fallecimiento']\n",
    "categoricas = ['sexo', 'departamento_residencia']\n"
   ]
  },
  {
   "cell_type": "code",
   "execution_count": 19,
   "id": "3a4b97b0",
   "metadata": {},
   "outputs": [],
   "source": [
    "for col in binarias:\n",
    "    df[col] = df[col].apply(lambda x: 1 if x == 'SI' else 0)"
   ]
  },
  {
   "cell_type": "code",
   "execution_count": 20,
   "id": "ce82ed52",
   "metadata": {},
   "outputs": [],
   "source": [
    "for col in categoricas:\n",
    "    df[col] = df[col].astype('category')"
   ]
  },
  {
   "cell_type": "code",
   "execution_count": 21,
   "id": "9e38cbc1",
   "metadata": {},
   "outputs": [],
   "source": [
    "df['edad'] = pd.to_numeric(df['edad'], errors='coerce')"
   ]
  },
  {
   "cell_type": "code",
   "execution_count": 22,
   "id": "5c54feca",
   "metadata": {},
   "outputs": [],
   "source": [
    "df['edad_estandarizada'] = df.apply(\n",
    "    lambda row: row['edad'] / 12 if row['edad_años_meses'] == 'Meses' else row['edad'],\n",
    "    axis=1\n",
    ")"
   ]
  },
  {
   "cell_type": "code",
   "execution_count": 23,
   "id": "4c01c608",
   "metadata": {},
   "outputs": [],
   "source": [
    "# Filtrar edades válidas\n",
    "df = df[(df['edad_estandarizada'] >= 0) & (df['edad_estandarizada'] <= 105)]"
   ]
  },
  {
   "cell_type": "code",
   "execution_count": 24,
   "id": "4ed855d1",
   "metadata": {},
   "outputs": [],
   "source": [
    "# Crear grupos etarios\n",
    "df['grupo_edad'] = pd.cut(\n",
    "    df['edad_estandarizada'],\n",
    "    bins=[0, 2, 12, 18, 30, 50, 65, 100, 105],\n",
    "    labels=['0-2', '3-12', '13-18', '19-30', '31-50', '51-65', '65-100', '100+']\n",
    ")"
   ]
  },
  {
   "cell_type": "code",
   "execution_count": 25,
   "id": "12d1f297",
   "metadata": {},
   "outputs": [],
   "source": [
    "# infantes = df[df['edad_años_meses'] == 'Meses' ]\n",
    "# df = df[df['edad_años_meses'] != 'Meses' ]\n",
    "\n",
    "# Ya que los valores se en la misma columna, podemos eliminar la columna \"edad_años_meses\"\n",
    "df.drop(columns='edad_años_meses', inplace=True)"
   ]
  },
  {
   "cell_type": "code",
   "execution_count": 26,
   "id": "501a0ed7",
   "metadata": {},
   "outputs": [],
   "source": [
    "df['clasificacion_caso'] = df['clasificacion_caso'].astype('category')"
   ]
  },
  {
   "cell_type": "code",
   "execution_count": 27,
   "id": "64865bb3",
   "metadata": {},
   "outputs": [
    {
     "data": {
      "text/plain": [
       "sexo                             category\n",
       "edad                              float64\n",
       "departamento_residencia          category\n",
       "carga_provincia_nombre             object\n",
       "fecha_inicio_sintomas      datetime64[ns]\n",
       "fecha_apertura             datetime64[ns]\n",
       "sem_epidemiologica                  int64\n",
       "fecha_internacion          datetime64[ns]\n",
       "requirio_uci                        int64\n",
       "fecha_ingreso_uci          datetime64[ns]\n",
       "indicador_fallecimiento             int64\n",
       "fecha_fallecimiento        datetime64[ns]\n",
       "requirio_arm                        int64\n",
       "clasificacion_caso               category\n",
       "fecha_diagnostico          datetime64[ns]\n",
       "edad_estandarizada                float64\n",
       "grupo_edad                       category\n",
       "dtype: object"
      ]
     },
     "execution_count": 27,
     "metadata": {},
     "output_type": "execute_result"
    }
   ],
   "source": [
    "df.dtypes"
   ]
  },
  {
   "cell_type": "code",
   "execution_count": 28,
   "id": "cdccb9ce",
   "metadata": {},
   "outputs": [
    {
     "data": {
      "text/html": [
       "<div>\n",
       "<style scoped>\n",
       "    .dataframe tbody tr th:only-of-type {\n",
       "        vertical-align: middle;\n",
       "    }\n",
       "\n",
       "    .dataframe tbody tr th {\n",
       "        vertical-align: top;\n",
       "    }\n",
       "\n",
       "    .dataframe thead th {\n",
       "        text-align: right;\n",
       "    }\n",
       "</style>\n",
       "<table border=\"1\" class=\"dataframe\">\n",
       "  <thead>\n",
       "    <tr style=\"text-align: right;\">\n",
       "      <th></th>\n",
       "      <th>sexo</th>\n",
       "      <th>edad</th>\n",
       "      <th>departamento_residencia</th>\n",
       "      <th>carga_provincia_nombre</th>\n",
       "      <th>fecha_inicio_sintomas</th>\n",
       "      <th>fecha_apertura</th>\n",
       "      <th>sem_epidemiologica</th>\n",
       "      <th>fecha_internacion</th>\n",
       "      <th>requirio_uci</th>\n",
       "      <th>fecha_ingreso_uci</th>\n",
       "      <th>indicador_fallecimiento</th>\n",
       "      <th>fecha_fallecimiento</th>\n",
       "      <th>requirio_arm</th>\n",
       "      <th>clasificacion_caso</th>\n",
       "      <th>fecha_diagnostico</th>\n",
       "      <th>edad_estandarizada</th>\n",
       "      <th>grupo_edad</th>\n",
       "    </tr>\n",
       "  </thead>\n",
       "  <tbody>\n",
       "    <tr>\n",
       "      <th>0</th>\n",
       "      <td>M</td>\n",
       "      <td>27.0</td>\n",
       "      <td>Patiño</td>\n",
       "      <td>Formosa</td>\n",
       "      <td>NaT</td>\n",
       "      <td>2020-06-01</td>\n",
       "      <td>23</td>\n",
       "      <td>NaT</td>\n",
       "      <td>0</td>\n",
       "      <td>NaT</td>\n",
       "      <td>0</td>\n",
       "      <td>NaT</td>\n",
       "      <td>0</td>\n",
       "      <td>Confirmado</td>\n",
       "      <td>2020-06-25</td>\n",
       "      <td>27.0</td>\n",
       "      <td>19-30</td>\n",
       "    </tr>\n",
       "    <tr>\n",
       "      <th>1</th>\n",
       "      <td>M</td>\n",
       "      <td>59.0</td>\n",
       "      <td>Laishi</td>\n",
       "      <td>Formosa</td>\n",
       "      <td>NaT</td>\n",
       "      <td>2020-06-01</td>\n",
       "      <td>23</td>\n",
       "      <td>NaT</td>\n",
       "      <td>0</td>\n",
       "      <td>NaT</td>\n",
       "      <td>0</td>\n",
       "      <td>NaT</td>\n",
       "      <td>0</td>\n",
       "      <td>Confirmado</td>\n",
       "      <td>2020-06-20</td>\n",
       "      <td>59.0</td>\n",
       "      <td>51-65</td>\n",
       "    </tr>\n",
       "    <tr>\n",
       "      <th>2</th>\n",
       "      <td>M</td>\n",
       "      <td>38.0</td>\n",
       "      <td>Laishi</td>\n",
       "      <td>Formosa</td>\n",
       "      <td>NaT</td>\n",
       "      <td>2020-06-01</td>\n",
       "      <td>23</td>\n",
       "      <td>NaT</td>\n",
       "      <td>0</td>\n",
       "      <td>NaT</td>\n",
       "      <td>0</td>\n",
       "      <td>NaT</td>\n",
       "      <td>0</td>\n",
       "      <td>Confirmado</td>\n",
       "      <td>2020-06-25</td>\n",
       "      <td>38.0</td>\n",
       "      <td>31-50</td>\n",
       "    </tr>\n",
       "    <tr>\n",
       "      <th>3</th>\n",
       "      <td>F</td>\n",
       "      <td>56.0</td>\n",
       "      <td>Pilagás</td>\n",
       "      <td>CABA</td>\n",
       "      <td>NaT</td>\n",
       "      <td>2021-04-08</td>\n",
       "      <td>14</td>\n",
       "      <td>NaT</td>\n",
       "      <td>0</td>\n",
       "      <td>NaT</td>\n",
       "      <td>0</td>\n",
       "      <td>NaT</td>\n",
       "      <td>0</td>\n",
       "      <td>Descartado</td>\n",
       "      <td>2021-04-06</td>\n",
       "      <td>56.0</td>\n",
       "      <td>51-65</td>\n",
       "    </tr>\n",
       "    <tr>\n",
       "      <th>4</th>\n",
       "      <td>M</td>\n",
       "      <td>56.0</td>\n",
       "      <td>Pilcomayo</td>\n",
       "      <td>Formosa</td>\n",
       "      <td>NaT</td>\n",
       "      <td>2021-04-08</td>\n",
       "      <td>14</td>\n",
       "      <td>NaT</td>\n",
       "      <td>0</td>\n",
       "      <td>NaT</td>\n",
       "      <td>0</td>\n",
       "      <td>NaT</td>\n",
       "      <td>0</td>\n",
       "      <td>Descartado</td>\n",
       "      <td>2021-04-08</td>\n",
       "      <td>56.0</td>\n",
       "      <td>51-65</td>\n",
       "    </tr>\n",
       "    <tr>\n",
       "      <th>5</th>\n",
       "      <td>F</td>\n",
       "      <td>18.0</td>\n",
       "      <td>Pilcomayo</td>\n",
       "      <td>Chaco</td>\n",
       "      <td>2021-04-05</td>\n",
       "      <td>2021-04-08</td>\n",
       "      <td>14</td>\n",
       "      <td>NaT</td>\n",
       "      <td>0</td>\n",
       "      <td>NaT</td>\n",
       "      <td>0</td>\n",
       "      <td>NaT</td>\n",
       "      <td>0</td>\n",
       "      <td>Descartado</td>\n",
       "      <td>2021-04-08</td>\n",
       "      <td>18.0</td>\n",
       "      <td>13-18</td>\n",
       "    </tr>\n",
       "    <tr>\n",
       "      <th>6</th>\n",
       "      <td>M</td>\n",
       "      <td>60.0</td>\n",
       "      <td>Pilcomayo</td>\n",
       "      <td>Formosa</td>\n",
       "      <td>NaT</td>\n",
       "      <td>2021-04-08</td>\n",
       "      <td>14</td>\n",
       "      <td>NaT</td>\n",
       "      <td>0</td>\n",
       "      <td>NaT</td>\n",
       "      <td>0</td>\n",
       "      <td>NaT</td>\n",
       "      <td>0</td>\n",
       "      <td>Descartado</td>\n",
       "      <td>2021-04-08</td>\n",
       "      <td>60.0</td>\n",
       "      <td>51-65</td>\n",
       "    </tr>\n",
       "    <tr>\n",
       "      <th>7</th>\n",
       "      <td>F</td>\n",
       "      <td>62.0</td>\n",
       "      <td>Pilcomayo</td>\n",
       "      <td>Formosa</td>\n",
       "      <td>NaT</td>\n",
       "      <td>2021-04-08</td>\n",
       "      <td>14</td>\n",
       "      <td>NaT</td>\n",
       "      <td>0</td>\n",
       "      <td>NaT</td>\n",
       "      <td>0</td>\n",
       "      <td>NaT</td>\n",
       "      <td>0</td>\n",
       "      <td>Confirmado</td>\n",
       "      <td>2021-05-04</td>\n",
       "      <td>62.0</td>\n",
       "      <td>51-65</td>\n",
       "    </tr>\n",
       "    <tr>\n",
       "      <th>8</th>\n",
       "      <td>M</td>\n",
       "      <td>20.0</td>\n",
       "      <td>Pilcomayo</td>\n",
       "      <td>Formosa</td>\n",
       "      <td>NaT</td>\n",
       "      <td>2021-04-08</td>\n",
       "      <td>14</td>\n",
       "      <td>NaT</td>\n",
       "      <td>0</td>\n",
       "      <td>NaT</td>\n",
       "      <td>0</td>\n",
       "      <td>NaT</td>\n",
       "      <td>0</td>\n",
       "      <td>Descartado</td>\n",
       "      <td>2021-04-08</td>\n",
       "      <td>20.0</td>\n",
       "      <td>19-30</td>\n",
       "    </tr>\n",
       "    <tr>\n",
       "      <th>9</th>\n",
       "      <td>F</td>\n",
       "      <td>50.0</td>\n",
       "      <td>Pilcomayo</td>\n",
       "      <td>Formosa</td>\n",
       "      <td>NaT</td>\n",
       "      <td>2021-04-08</td>\n",
       "      <td>14</td>\n",
       "      <td>NaT</td>\n",
       "      <td>0</td>\n",
       "      <td>NaT</td>\n",
       "      <td>0</td>\n",
       "      <td>NaT</td>\n",
       "      <td>0</td>\n",
       "      <td>Descartado</td>\n",
       "      <td>2021-04-08</td>\n",
       "      <td>50.0</td>\n",
       "      <td>31-50</td>\n",
       "    </tr>\n",
       "  </tbody>\n",
       "</table>\n",
       "</div>"
      ],
      "text/plain": [
       "  sexo  edad departamento_residencia carga_provincia_nombre  \\\n",
       "0    M  27.0                  Patiño                Formosa   \n",
       "1    M  59.0                  Laishi                Formosa   \n",
       "2    M  38.0                  Laishi                Formosa   \n",
       "3    F  56.0                 Pilagás                   CABA   \n",
       "4    M  56.0               Pilcomayo                Formosa   \n",
       "5    F  18.0               Pilcomayo                  Chaco   \n",
       "6    M  60.0               Pilcomayo                Formosa   \n",
       "7    F  62.0               Pilcomayo                Formosa   \n",
       "8    M  20.0               Pilcomayo                Formosa   \n",
       "9    F  50.0               Pilcomayo                Formosa   \n",
       "\n",
       "  fecha_inicio_sintomas fecha_apertura  sem_epidemiologica fecha_internacion  \\\n",
       "0                   NaT     2020-06-01                  23               NaT   \n",
       "1                   NaT     2020-06-01                  23               NaT   \n",
       "2                   NaT     2020-06-01                  23               NaT   \n",
       "3                   NaT     2021-04-08                  14               NaT   \n",
       "4                   NaT     2021-04-08                  14               NaT   \n",
       "5            2021-04-05     2021-04-08                  14               NaT   \n",
       "6                   NaT     2021-04-08                  14               NaT   \n",
       "7                   NaT     2021-04-08                  14               NaT   \n",
       "8                   NaT     2021-04-08                  14               NaT   \n",
       "9                   NaT     2021-04-08                  14               NaT   \n",
       "\n",
       "   requirio_uci fecha_ingreso_uci  indicador_fallecimiento  \\\n",
       "0             0               NaT                        0   \n",
       "1             0               NaT                        0   \n",
       "2             0               NaT                        0   \n",
       "3             0               NaT                        0   \n",
       "4             0               NaT                        0   \n",
       "5             0               NaT                        0   \n",
       "6             0               NaT                        0   \n",
       "7             0               NaT                        0   \n",
       "8             0               NaT                        0   \n",
       "9             0               NaT                        0   \n",
       "\n",
       "  fecha_fallecimiento  requirio_arm clasificacion_caso fecha_diagnostico  \\\n",
       "0                 NaT             0         Confirmado        2020-06-25   \n",
       "1                 NaT             0         Confirmado        2020-06-20   \n",
       "2                 NaT             0         Confirmado        2020-06-25   \n",
       "3                 NaT             0         Descartado        2021-04-06   \n",
       "4                 NaT             0         Descartado        2021-04-08   \n",
       "5                 NaT             0         Descartado        2021-04-08   \n",
       "6                 NaT             0         Descartado        2021-04-08   \n",
       "7                 NaT             0         Confirmado        2021-05-04   \n",
       "8                 NaT             0         Descartado        2021-04-08   \n",
       "9                 NaT             0         Descartado        2021-04-08   \n",
       "\n",
       "   edad_estandarizada grupo_edad  \n",
       "0                27.0      19-30  \n",
       "1                59.0      51-65  \n",
       "2                38.0      31-50  \n",
       "3                56.0      51-65  \n",
       "4                56.0      51-65  \n",
       "5                18.0      13-18  \n",
       "6                60.0      51-65  \n",
       "7                62.0      51-65  \n",
       "8                20.0      19-30  \n",
       "9                50.0      31-50  "
      ]
     },
     "execution_count": 28,
     "metadata": {},
     "output_type": "execute_result"
    }
   ],
   "source": [
    "df.head(10)"
   ]
  },
  {
   "cell_type": "code",
   "execution_count": 33,
   "id": "ccd2da43",
   "metadata": {},
   "outputs": [],
   "source": [
    "# exportamos el dataframe a un archivo csv\n",
    "df.to_csv('Covid19Casos_Formosa.csv', index=False)"
   ]
  },
  {
   "cell_type": "code",
   "execution_count": 35,
   "id": "ab12718c",
   "metadata": {},
   "outputs": [
    {
     "data": {
      "image/png": "[encoded data removed]",
      "text/plain": [
       "<Figure size 1000x600 with 1 Axes>"
      ]
     },
     "metadata": {},
     "output_type": "display_data"
    }
   ],
   "source": [
    "plt.figure(figsize=(10,6))\n",
    "df['edad_estandarizada'].plot(kind='hist', bins=40, color='skyblue', edgecolor='black')\n",
    "plt.title('Distribución de Edad (Formosa)')\n",
    "plt.xlabel('Edad (años)')\n",
    "plt.ylabel('Cantidad de casos')\n",
    "plt.grid(True)\n",
    "plt.tight_layout()\n",
    "plt.show()"
   ]
  },
  {
   "cell_type": "code",
   "execution_count": 32,
   "id": "a7cadb9a",
   "metadata": {},
   "outputs": [
    {
     "name": "stderr",
     "output_type": "stream",
     "text": [
      "C:\\Users\\IPF-2025\\AppData\\Local\\Temp\\ipykernel_19680\\1135843614.py:1: FutureWarning: The default of observed=False is deprecated and will be changed to True in a future version of pandas. Pass observed=False to retain current behavior or observed=True to adopt the future default and silence this warning.\n",
      "  casos_departamento = df[df['clasificacion_caso'] == 'Confirmado'].groupby('departamento_residencia').size().sort_values()\n"
     ]
    },
    {
     "data": {
      "image/png": "[encoded data removed]",
      "text/plain": [
       "<Figure size 1200x1000 with 1 Axes>"
      ]
     },
     "metadata": {},
     "output_type": "display_data"
    }
   ],
   "source": [
    "casos_departamento = df[df['clasificacion_caso'] == 'Confirmado'].groupby('departamento_residencia').size().sort_values()\n",
    "plt.figure(figsize=(12,10))\n",
    "casos_departamento.plot(kind='barh', color='steelblue', edgecolor='black')\n",
    "plt.title('Casos Confirmados por Departamento - Formosa')\n",
    "plt.xlabel('Cantidad de Casos Confirmados')\n",
    "plt.ylabel('Departamento')\n",
    "plt.tight_layout()\n",
    "plt.show()"
   ]
  },
  {
   "cell_type": "code",
   "execution_count": null,
   "id": "8f98317c",
   "metadata": {},
   "outputs": [],
   "source": [
    "plt.figure(figsize=(10,6))\n",
    "df['edad_estandarizada'].plot(kind='hist', bins=20, color='slategray', edgecolor='black')\n",
    "plt.title('Distribución de Edad (Agrupada) - Casos COVID-19 en Formosa')\n",
    "plt.xlabel('Edad en años')\n",
    "plt.ylabel('Frecuencia')\n",
    "plt.grid(True)\n",
    "plt.tight_layout()\n",
    "plt.show()"
   ]
  },
  {
   "cell_type": "code",
   "execution_count": null,
   "id": "1378cfa6",
   "metadata": {},
   "outputs": [],
   "source": [
    "plt.figure(figsize=(10,6))\n",
    "df['grupo_edad'].value_counts().sort_index().plot(kind='bar', color='salmon', edgecolor='black')\n",
    "plt.title('Casos por Grupo Etario (Formosa)')\n",
    "plt.xlabel('Grupo de Edad')\n",
    "plt.ylabel('Cantidad de Casos')\n",
    "plt.xticks(rotation=0)\n",
    "plt.grid(axis='y')\n",
    "plt.tight_layout()\n",
    "plt.show()\n"
   ]
  },
  {
   "cell_type": "code",
   "execution_count": null,
   "id": "6f3d5c79",
   "metadata": {},
   "outputs": [],
   "source": [
    "casos_por_fecha = df[df['clasificacion_caso'] == 'Confirmado'].groupby('fecha_diagnostico').size()\n",
    "plt.figure(figsize=(12,6))\n",
    "casos_por_fecha.plot(kind='line', color='teal')\n",
    "plt.title('Evolución Temporal de Casos Confirmados - Formosa')\n",
    "plt.xlabel('Fecha de Diagnóstico')\n",
    "plt.ylabel('Cantidad de Casos Confirmados')\n",
    "plt.grid(True)\n",
    "plt.tight_layout()\n",
    "plt.show()"
   ]
  },
  {
   "cell_type": "code",
   "execution_count": null,
   "id": "01f68e62",
   "metadata": {},
   "outputs": [],
   "source": [
    "casos_por_semana = df.groupby('sem_epidemiologica').size()\n",
    "plt.figure(figsize=(12,6))\n",
    "casos_por_semana.plot(kind='bar', color='orange', edgecolor='black')\n",
    "plt.title('Casos por Semana Epidemiológica - Formosa')\n",
    "plt.xlabel('Semana Epidemiológica')\n",
    "plt.ylabel('Cantidad de Casos')\n",
    "plt.tight_layout()\n",
    "plt.show()"
   ]
  },
  {
   "cell_type": "code",
   "execution_count": null,
   "id": "e72270f1",
   "metadata": {},
   "outputs": [],
   "source": [
    "uci_por_edad = df[df['requirio_uci'] == True]['grupo_edad'].value_counts().sort_index()\n",
    "plt.figure(figsize=(10,6))\n",
    "uci_por_edad.plot(kind='bar', color='purple', edgecolor='black')\n",
    "plt.title('Casos en UCI por Grupo Etario')\n",
    "plt.xlabel('Grupo de Edad')\n",
    "plt.ylabel('Cantidad de Casos en UCI')\n",
    "plt.xticks(rotation=0)\n",
    "plt.tight_layout()\n",
    "plt.show()\n"
   ]
  },
  {
   "cell_type": "code",
   "execution_count": null,
   "id": "5c86fb65",
   "metadata": {},
   "outputs": [],
   "source": [
    "arm_por_edad = df[df['requirio_arm'] == True]['grupo_edad'].value_counts().sort_index()\n",
    "plt.figure(figsize=(10,6))\n",
    "arm_por_edad.plot(kind='area', color='darkred', edgecolor='black')\n",
    "plt.title('Casos con Asistencia Respiratoria Mecánica por Grupo Etario')\n",
    "plt.xlabel('Grupo de Edad')\n",
    "plt.ylabel('Cantidad de Casos con ARM')\n",
    "plt.xticks(rotation=0)\n",
    "plt.tight_layout()\n",
    "plt.show()"
   ]
  },
  {
   "cell_type": "code",
   "execution_count": null,
   "id": "21ffad95",
   "metadata": {},
   "outputs": [],
   "source": [
    "fallecidos = df[df['indicador_fallecimiento'] == True]\n",
    "plt.figure(figsize=(12,6))\n",
    "fallecidos.groupby('grupo_edad', observed=False)['sexo'].value_counts().unstack().plot(kind='bar', stacked=True)\n",
    "plt.title('Fallecimientos por Grupo Etario y Sexo')\n",
    "plt.xlabel('Grupo de Edad')\n",
    "plt.ylabel('Cantidad de Fallecidos')\n",
    "plt.xticks(rotation=0)\n",
    "plt.tight_layout()\n",
    "plt.show()\n"
   ]
  }
 ],
 "metadata": {
  "kernelspec": {
   "display_name": "tp1_big_data",
   "language": "python",
   "name": "python3"
  },
  "language_info": {
   "codemirror_mode": {
    "name": "ipython",
    "version": 3
   },
   "file_extension": ".py",
   "mimetype": "text/x-python",
   "name": "python",
   "nbconvert_exporter": "python",
   "pygments_lexer": "ipython3",
   "version": "3.13.2"
  }
 },
 "nbformat": 4,
 "nbformat_minor": 5
}
